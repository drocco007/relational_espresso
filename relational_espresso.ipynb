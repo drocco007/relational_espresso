{
 "cells": [
  {
   "cell_type": "code",
   "execution_count": 1,
   "metadata": {
    "collapsed": false,
    "slideshow": {
     "slide_type": "skip"
    }
   },
   "outputs": [
    {
     "data": {
      "text/plain": [
       "{'height': 768,\n",
       " 'start_slideshow_at': 'selected',\n",
       " 'theme': 'solarized',\n",
       " 'transition': 'none',\n",
       " 'width': 1024}"
      ]
     },
     "execution_count": 1,
     "metadata": {},
     "output_type": "execute_result"
    }
   ],
   "source": [
    "# set up the slide show\n",
    "from notebook.services.config import ConfigManager\n",
    "cm = ConfigManager()\n",
    "cm.update('livereveal', {\n",
    "    'theme': 'solarized',\n",
    "    'width': 1024,\n",
    "    'height': 768,\n",
    "    'transition': 'none',\n",
    "    'start_slideshow_at': 'selected',\n",
    "})"
   ]
  },
  {
   "cell_type": "code",
   "execution_count": 2,
   "metadata": {
    "collapsed": false,
    "slideshow": {
     "slide_type": "skip"
    }
   },
   "outputs": [
    {
     "data": {
      "text/html": [
       "<style>body.rise-enabled\n",
       "{\n",
       "    background: #fdf6e3;\n",
       "    background-color: #fdf6e3;\n",
       "}\n",
       "\n",
       ".rise-enabled #header\n",
       "{\n",
       "    display: none !important;\n",
       "}\n",
       "\n",
       ".reveal li\n",
       "{\n",
       "    list-style: none;\n",
       "}\n",
       "\n",
       ".reveal\n",
       "{\n",
       "    font-family: \"Ubuntu\";\n",
       "    font-size: 36px;\n",
       "    font-variant-ligatures: common-ligatures;\n",
       "    letter-spacing: inherit;\n",
       "}\n",
       "\n",
       ".reveal .rendered_html\n",
       "{\n",
       "    color: #586e75;\n",
       "}\n",
       "\n",
       ".reveal .rendered_html h1,\n",
       ".reveal .rendered_html h2,\n",
       ".reveal .rendered_html h3,\n",
       ".reveal .rendered_html h4,\n",
       ".reveal .rendered_html h5,\n",
       ".reveal .rendered_html h6\n",
       "{\n",
       "    text-shadow: none;\n",
       "    font-weight: normal;\n",
       "}\n",
       "\n",
       ".reveal .rendered_html h1\n",
       "{\n",
       "    font-size: 300%;\n",
       "}\n",
       "\n",
       ".reveal .rendered_html h2\n",
       "{\n",
       "    font-size: 200%;\n",
       "}\n",
       "\n",
       ".reveal .rendered_html p\n",
       "{\n",
       "    text-align: center;\n",
       "}\n",
       "\n",
       ".reveal .rendered_html img\n",
       "{\n",
       "    display: inline-block;\n",
       "}\n",
       "\n",
       ".reveal pre,\n",
       ".reveal code,\n",
       ".reveal .prompt\n",
       "{\n",
       "    font-family: \"Ubuntu Mono\", monospace !important;\n",
       "    font-size: 36px !important;\n",
       "    line-height: 1.2em;\n",
       "}\n",
       "\n",
       ".rise-enabled .reveal pre,\n",
       ".rise-enabled .reveal code\n",
       "{\n",
       "    padding: 0;\n",
       "    background: none;\n",
       "    color: #2aa198;\n",
       "    overflow: visible;\n",
       "}\n",
       "\n",
       ".reveal .prompt\n",
       "{\n",
       "    padding: 9px 0 0 0 !important;\n",
       "}\n",
       "\n",
       ".reveal em\n",
       "{\n",
       "  font-style: italic;\n",
       "  color: #b58900;\n",
       "}\n",
       "\n",
       ".reveal strong\n",
       "{\n",
       "  color: #d33682;\n",
       "}\n",
       "\n",
       ".reveal blockquote\n",
       "{\n",
       "    background: none;\n",
       "    border: none;\n",
       "    box-shadow: none;\n",
       "}\n",
       "\n",
       ".reveal #slide-0-0 .rendered_html\n",
       "{\n",
       "    position: absolute;\n",
       "    top: 175px;\n",
       "    left: 100px;\n",
       "}\n",
       "\n",
       "\n",
       "/*\n",
       " * Suppress error message triggered by Jupyter encoding bug\n",
       " *\n",
       " * http://stackoverflow.com/questions/2260815/weird-problem-with-input-encoding-in-ipython\n",
       " */\n",
       ".output_stderr\n",
       "{\n",
       "    display: none;\n",
       "}</style>"
      ],
      "text/plain": [
       "<IPython.core.display.HTML object>"
      ]
     },
     "execution_count": 2,
     "metadata": {},
     "output_type": "execute_result"
    }
   ],
   "source": [
    "# CSS overrides\n",
    "from IPython.core.display import HTML\n",
    "css = open('style-notebook.css').read()\n",
    "HTML('<style>{}</style>'.format(css))"
   ]
  },
  {
   "cell_type": "markdown",
   "metadata": {
    "slideshow": {
     "data": {
      "background-image": "coffee.jpg"
     },
     "slide_type": "slide"
    }
   },
   "source": [
    "# A Relational<br/>Espresso\n",
    "\n",
    "##### A Sip of the Essence of SQL in Python"
   ]
  },
  {
   "cell_type": "markdown",
   "metadata": {
    "slideshow": {
     "slide_type": "slide"
    }
   },
   "source": [
    "## This Talk\n",
    "\n",
    "Understand *why* you would use a \n",
    "\n",
    "**relational database** \n",
    "\n",
    "in your application"
   ]
  },
  {
   "cell_type": "markdown",
   "metadata": {
    "slideshow": {
     "slide_type": "slide"
    }
   },
   "source": [
    "## This Talk\n",
    "\n",
    "Learn how to **connect** Python to an RDBMS"
   ]
  },
  {
   "cell_type": "markdown",
   "metadata": {
    "slideshow": {
     "slide_type": "slide"
    }
   },
   "source": [
    "## This Talk\n",
    "\n",
    "Obtain a **solid foundation** for *learning more*"
   ]
  },
  {
   "cell_type": "markdown",
   "metadata": {
    "slideshow": {
     "slide_type": "slide"
    }
   },
   "source": [
    "There are many, many \n",
    "\n",
    "*storage paradigms* and technologies"
   ]
  },
  {
   "cell_type": "markdown",
   "metadata": {
    "slideshow": {
     "slide_type": "slide"
    }
   },
   "source": [
    "## Why relational databases?"
   ]
  },
  {
   "cell_type": "markdown",
   "metadata": {
    "slideshow": {
     "slide_type": "slide"
    }
   },
   "source": [
    "In particular, what accounts for relational databases’\n",
    "\n",
    "*enduring popularity?*"
   ]
  },
  {
   "cell_type": "markdown",
   "metadata": {
    "slideshow": {
     "slide_type": "slide"
    }
   },
   "source": [
    "An *annecdote* from the **distant past**…"
   ]
  },
  {
   "cell_type": "markdown",
   "metadata": {
    "slideshow": {
     "slide_type": "fragment"
    }
   },
   "source": [
    "\n",
    "(ca. 1995)"
   ]
  },
  {
   "cell_type": "markdown",
   "metadata": {
    "slideshow": {
     "slide_type": "slide"
    }
   },
   "source": [
    "## Why relational databases?\n",
    "\n",
    "> If you believed everything in the **object database** vendors’ literature, then you’d be surprised that Larry Ellison still has $100 bills to *fling to peasants* as he roars past in his Acura NSX. \n",
    ">\n",
    "> — Philip Greenspun"
   ]
  },
  {
   "cell_type": "markdown",
   "metadata": {
    "slideshow": {
     "slide_type": "slide"
    }
   },
   "source": [
    "## Why relational databases?\n",
    "\n",
    "> The relational database management system should have been **crushed** long ago under the weight of this *superior technology*, introduced with tremendous hype in the mid-1980s.\n",
    ">\n",
    "> — Philip Greenspun"
   ]
  },
  {
   "cell_type": "markdown",
   "metadata": {
    "slideshow": {
     "slide_type": "slide"
    }
   },
   "source": [
    "Anyone ever used an object database?\n",
    "\n",
    "(not an ORM; a true ODBMS…)"
   ]
  },
  {
   "cell_type": "markdown",
   "metadata": {
    "slideshow": {
     "slide_type": "slide"
    }
   },
   "source": [
    "## So… Why relational databases?"
   ]
  },
  {
   "cell_type": "markdown",
   "metadata": {
    "slideshow": {
     "slide_type": "fragment"
    }
   },
   "source": [
    "* Declarative querying\n",
    "* ACID\n",
    "* Performance"
   ]
  },
  {
   "cell_type": "markdown",
   "metadata": {
    "slideshow": {
     "slide_type": "slide"
    }
   },
   "source": [
    "## Declarative querying\n",
    "\n",
    "Specify *what* you want, not **how** to get it."
   ]
  },
  {
   "cell_type": "markdown",
   "metadata": {
    "slideshow": {
     "slide_type": "slide"
    }
   },
   "source": [
    "## What we want\n",
    "\n",
    "> Retrieve the value(s) of the `group_name` field\n",
    "> from the `user_group` table\n",
    "> but only for people whose name is `Daniel Rocco`"
   ]
  },
  {
   "cell_type": "markdown",
   "metadata": {
    "slideshow": {
     "slide_type": "slide"
    }
   },
   "source": [
    "## What we want\n",
    "\n",
    "    SELECT group_name\n",
    "    FROM user_group\n",
    "    WHERE name = 'Daniel Rocco';"
   ]
  },
  {
   "cell_type": "markdown",
   "metadata": {
    "slideshow": {
     "slide_type": "slide"
    }
   },
   "source": [
    "## How?"
   ]
  },
  {
   "cell_type": "markdown",
   "metadata": {
    "slideshow": {
     "slide_type": "slide"
    }
   },
   "source": [
    "## Hmmm… don't know don't care\n",
    "\n",
    "![title](dont_care.jpg)"
   ]
  },
  {
   "cell_type": "markdown",
   "metadata": {
    "slideshow": {
     "slide_type": "slide"
    }
   },
   "source": [
    "Why is declarative querying interesting and important?"
   ]
  },
  {
   "cell_type": "markdown",
   "metadata": {
    "slideshow": {
     "slide_type": "slide"
    }
   },
   "source": [
    "Make simple things *easy*, make difficult things **possible**"
   ]
  },
  {
   "cell_type": "markdown",
   "metadata": {
    "slideshow": {
     "slide_type": "slide"
    }
   },
   "source": [
    "SQL is a *quintessential* example of this principle"
   ]
  },
  {
   "cell_type": "markdown",
   "metadata": {
    "slideshow": {
     "slide_type": "slide"
    }
   },
   "source": [
    "The query language provides a *clean abstraction* between the **application program** and the **data**"
   ]
  },
  {
   "cell_type": "markdown",
   "metadata": {
    "slideshow": {
     "slide_type": "slide"
    }
   },
   "source": [
    "Not only is working with the data simplified, an RDBMS *isolates* your data from the harsh environment of an **application program**"
   ]
  },
  {
   "cell_type": "markdown",
   "metadata": {
    "slideshow": {
     "slide_type": "slide"
    }
   },
   "source": [
    "> With an ODBMS, the application program is **directly writing slots** in objects stored in the database. A bug in the application program may translate *directly into corruption of the database*, one of an organization’s **most valuable assets**.\n",
    ">\n",
    "> — Philip Greenspun"
   ]
  },
  {
   "cell_type": "markdown",
   "metadata": {
    "slideshow": {
     "slide_type": "slide"
    }
   },
   "source": [
    "Equally true for **many other** storage systems, \n",
    "\n",
    "e.g. flat files, pickle, etc."
   ]
  },
  {
   "cell_type": "markdown",
   "metadata": {
    "slideshow": {
     "slide_type": "slide"
    }
   },
   "source": [
    "## ACID\n",
    "\n",
    "Transactions should be\n",
    "\n",
    "**Atomic**, **Consistent**, **Independent**, and **Durable**"
   ]
  },
  {
   "cell_type": "markdown",
   "metadata": {
    "slideshow": {
     "slide_type": "slide"
    }
   },
   "source": [
    "## Atomic\n",
    "\n",
    "A transaction either happens or it doesn't\n",
    "\n",
    "![IBM](ibm.jpg)"
   ]
  },
  {
   "cell_type": "markdown",
   "metadata": {
    "slideshow": {
     "slide_type": "slide"
    }
   },
   "source": [
    "## Atomic\n",
    "\n",
    "If, after 1,000 statements, the 1,001<sup>st</sup> **blows up**, the database should behave as if *none* of the statements ever happened"
   ]
  },
  {
   "cell_type": "markdown",
   "metadata": {
    "slideshow": {
     "slide_type": "slide"
    }
   },
   "source": [
    "## Consistent\n",
    "\n",
    "A transaction moves the database \n",
    "\n",
    "*from one consistent state to another*"
   ]
  },
  {
   "cell_type": "markdown",
   "metadata": {
    "slideshow": {
     "slide_type": "slide"
    }
   },
   "source": [
    "## Consistent\n",
    "\n",
    "(although *consistent* doesn't necessarily mean<br/>\n",
    "**expected** or **desirable**)"
   ]
  },
  {
   "cell_type": "markdown",
   "metadata": {
    "slideshow": {
     "slide_type": "slide"
    }
   },
   "source": [
    "## Independent\n",
    "\n",
    "*Concurrent transactions* operate as if they **executed alone**"
   ]
  },
  {
   "cell_type": "markdown",
   "metadata": {
    "slideshow": {
     "slide_type": "slide"
    }
   },
   "source": [
    "## Durable\n",
    "\n",
    "Once a transaction completes, its *effect on the database* should be **permanent**"
   ]
  },
  {
   "cell_type": "markdown",
   "metadata": {
    "slideshow": {
     "slide_type": "slide"
    }
   },
   "source": [
    "## These are *Hard* Guarantees to Offer\n",
    "\n",
    "(especially when you consider…)"
   ]
  },
  {
   "cell_type": "markdown",
   "metadata": {
    "slideshow": {
     "slide_type": "slide"
    }
   },
   "source": [
    "## Performance"
   ]
  },
  {
   "cell_type": "markdown",
   "metadata": {
    "slideshow": {
     "slide_type": "fragment"
    }
   },
   "source": [
    "Disk storage, indexes, query planner and optimizer, statistics, table spaces, …"
   ]
  },
  {
   "cell_type": "markdown",
   "metadata": {
    "slideshow": {
     "slide_type": "slide"
    }
   },
   "source": [
    "## Why relational databases?\n",
    "\n",
    "* Declarative querying: power & ease of use\n",
    "* ACID: rigorous guarantees even with concurrent access\n",
    "* Performance"
   ]
  },
  {
   "cell_type": "markdown",
   "metadata": {
    "slideshow": {
     "slide_type": "slide"
    }
   },
   "source": [
    "## SQL & Python\n",
    "\n",
    "DBAPI, SQLAlchemy, sqlite3, tons of third-party drivers, etc."
   ]
  },
  {
   "cell_type": "markdown",
   "metadata": {
    "slideshow": {
     "slide_type": "slide"
    }
   },
   "source": [
    "*Great, dan! But how do I get started?*"
   ]
  },
  {
   "cell_type": "markdown",
   "metadata": {
    "slideshow": {
     "slide_type": "slide"
    }
   },
   "source": [
    "## Mmm… batteries…\n",
    "\n",
    "SQLite binding built into the standard library"
   ]
  },
  {
   "cell_type": "code",
   "execution_count": 3,
   "metadata": {
    "collapsed": true,
    "slideshow": {
     "slide_type": "-"
    }
   },
   "outputs": [],
   "source": [
    "import sqlite3"
   ]
  },
  {
   "cell_type": "code",
   "execution_count": 4,
   "metadata": {
    "collapsed": true,
    "slideshow": {
     "slide_type": "skip"
    }
   },
   "outputs": [],
   "source": [
    "import os\n",
    "\n",
    "try:\n",
    "    os.unlink('hello.db')\n",
    "except FileNotFoundError:\n",
    "    pass"
   ]
  },
  {
   "cell_type": "markdown",
   "metadata": {
    "slideshow": {
     "slide_type": "slide"
    }
   },
   "source": [
    "## Making Connections\n",
    "\n",
    "Connect to an SQLite database,<br/>\n",
    "creating it first if it doesn't already exist"
   ]
  },
  {
   "cell_type": "code",
   "execution_count": 5,
   "metadata": {
    "collapsed": true,
    "slideshow": {
     "slide_type": "-"
    }
   },
   "outputs": [],
   "source": [
    "db = sqlite3.connect('hello.db')"
   ]
  },
  {
   "cell_type": "markdown",
   "metadata": {
    "slideshow": {
     "slide_type": "skip"
    }
   },
   "source": [
    "## Look! It's a File!"
   ]
  },
  {
   "cell_type": "code",
   "execution_count": 6,
   "metadata": {
    "collapsed": false,
    "slideshow": {
     "slide_type": "skip"
    }
   },
   "outputs": [
    {
     "name": "stdout",
     "output_type": "stream",
     "text": [
      "0B hello.db\r\n"
     ]
    }
   ],
   "source": [
    "!stat -c '%sB %n' hello.db"
   ]
  },
  {
   "cell_type": "markdown",
   "metadata": {
    "slideshow": {
     "slide_type": "slide"
    }
   },
   "source": [
    "## Python ↔ SQL\n",
    "\n",
    "That `db` variable holds a connection to the database"
   ]
  },
  {
   "cell_type": "markdown",
   "metadata": {
    "slideshow": {
     "slide_type": "slide"
    }
   },
   "source": [
    "## Python ↔ SQL\n",
    "\n",
    "We *execute* SQL commands by passing them to the appropriate `db` methods."
   ]
  },
  {
   "cell_type": "markdown",
   "metadata": {
    "slideshow": {
     "slide_type": "slide"
    }
   },
   "source": [
    "## Python ↔ SQL\n",
    "\n",
    "The result of a command is a *cursor* object, a reference to the **result** of our statement."
   ]
  },
  {
   "cell_type": "markdown",
   "metadata": {
    "slideshow": {
     "slide_type": "slide"
    }
   },
   "source": [
    "Example: Get all rows & columns from the `user` table\n",
    "\n",
    "SQL:\n",
    "\n",
    "    SELECT *\n",
    "    FROM user;\n",
    "\n",
    "\n",
    "(‘`*`’ means “all fields/columns”)"
   ]
  },
  {
   "cell_type": "markdown",
   "metadata": {
    "slideshow": {
     "slide_type": "slide"
    }
   },
   "source": [
    "In Python, wrap the SQL in a multiline string:\n",
    "\n",
    "    '''\n",
    "        SELECT *\n",
    "        FROM user;\n",
    "    '''"
   ]
  },
  {
   "cell_type": "markdown",
   "metadata": {
    "slideshow": {
     "slide_type": "slide"
    }
   },
   "source": [
    "Run a command by passing it to the `execute` method:"
   ]
  },
  {
   "cell_type": "code",
   "execution_count": 8,
   "metadata": {
    "collapsed": false,
    "slideshow": {
     "slide_type": "fragment"
    }
   },
   "outputs": [
    {
     "name": "stderr",
     "output_type": "stream",
     "text": [
      "ERROR: An unexpected error occurred while tokenizing input\n",
      "The following traceback may be corrupted or invalid\n",
      "The error message is: ('EOF in multi-line string', (1, 0))\n",
      "\n"
     ]
    },
    {
     "ename": "OperationalError",
     "evalue": "no such table: user",
     "output_type": "error",
     "traceback": [
      "\u001b[1;31m---------------------------------------------------------------------------\u001b[0m",
      "\u001b[1;31mOperationalError\u001b[0m                          Traceback (most recent call last)",
      "\u001b[1;32m<ipython-input-8-c57fb35291a5>\u001b[0m in \u001b[0;36m<module>\u001b[1;34m()\u001b[0m\n\u001b[0;32m      2\u001b[0m     \u001b[0mSELECT\u001b[0m \u001b[1;33m*\u001b[0m\u001b[1;33m\u001b[0m\u001b[0m\n\u001b[0;32m      3\u001b[0m     \u001b[0mFROM\u001b[0m \u001b[0muser\u001b[0m\u001b[1;33m;\u001b[0m\u001b[1;33m\u001b[0m\u001b[0m\n\u001b[1;32m----> 4\u001b[1;33m ''')\n\u001b[0m",
      "\u001b[1;31mOperationalError\u001b[0m: no such table: user"
     ]
    }
   ],
   "source": [
    "cursor = db.execute('''\n",
    "    SELECT *\n",
    "    FROM user;\n",
    "''')"
   ]
  },
  {
   "cell_type": "markdown",
   "metadata": {
    "slideshow": {
     "slide_type": "slide"
    }
   },
   "source": [
    "Well, **that** didn’t work…"
   ]
  },
  {
   "cell_type": "markdown",
   "metadata": {
    "slideshow": {
     "slide_type": "slide"
    }
   },
   "source": [
    "I suppose we’ll need to create some tables!"
   ]
  },
  {
   "cell_type": "markdown",
   "metadata": {
    "slideshow": {
     "slide_type": "slide"
    }
   },
   "source": [
    "## Tables for Your Data\n",
    "\n",
    "\n",
    "CREATE TABLE, unsurprisingly, creates a new table!<br/>\n",
    "This one is named `hello`"
   ]
  },
  {
   "cell_type": "code",
   "execution_count": 9,
   "metadata": {
    "collapsed": false,
    "scrolled": false,
    "slideshow": {
     "slide_type": "-"
    }
   },
   "outputs": [],
   "source": [
    "cursor = db.execute('''\n",
    "    CREATE TABLE hello (\n",
    "        data text\n",
    "    );\n",
    "''')"
   ]
  },
  {
   "cell_type": "markdown",
   "metadata": {
    "slideshow": {
     "slide_type": "-"
    }
   },
   "source": [
    "Inside the parens are the **fields** (columns) in the table, each of which has a\n",
    "**name** (data) and a **type** (text)"
   ]
  },
  {
   "cell_type": "markdown",
   "metadata": {
    "slideshow": {
     "slide_type": "slide"
    }
   },
   "source": [
    "## Put Information In…"
   ]
  },
  {
   "cell_type": "code",
   "execution_count": 10,
   "metadata": {
    "collapsed": false,
    "slideshow": {
     "slide_type": "-"
    }
   },
   "outputs": [],
   "source": [
    "cursor = db.execute('''\n",
    "    INSERT INTO hello\n",
    "    VALUES ('world!');\n",
    "''')"
   ]
  },
  {
   "cell_type": "markdown",
   "metadata": {
    "slideshow": {
     "slide_type": "slide"
    }
   },
   "source": [
    "## … and Get It Back Out"
   ]
  },
  {
   "cell_type": "code",
   "execution_count": 11,
   "metadata": {
    "collapsed": false,
    "slideshow": {
     "slide_type": "-"
    }
   },
   "outputs": [
    {
     "name": "stdout",
     "output_type": "stream",
     "text": [
      "('world!',)\n"
     ]
    }
   ],
   "source": [
    "cursor = db.execute('''\n",
    "    SELECT *\n",
    "    FROM hello;\n",
    "''')\n",
    "\n",
    "for row in cursor:\n",
    "    print(row)"
   ]
  },
  {
   "cell_type": "markdown",
   "metadata": {
    "slideshow": {
     "slide_type": "slide"
    }
   },
   "source": [
    "## Concurrency, anyone?"
   ]
  },
  {
   "cell_type": "code",
   "execution_count": 12,
   "metadata": {
    "collapsed": false,
    "slideshow": {
     "slide_type": "-"
    }
   },
   "outputs": [],
   "source": [
    "conn2 = sqlite3.connect('hello.db')\n",
    "\n",
    "cursor2 = conn2.execute('''\n",
    "    SELECT data\n",
    "    FROM hello;\n",
    "''')\n",
    "\n",
    "for row in cursor2:\n",
    "    print(row)"
   ]
  },
  {
   "cell_type": "markdown",
   "metadata": {
    "slideshow": {
     "slide_type": "fragment"
    }
   },
   "source": [
    "              ^^^^\n",
    "(uhm… something’s missing…)"
   ]
  },
  {
   "cell_type": "markdown",
   "metadata": {
    "slideshow": {
     "slide_type": "slide"
    }
   },
   "source": [
    "## WAT?!\n",
    "\n",
    "Dude… where's my data?"
   ]
  },
  {
   "cell_type": "markdown",
   "metadata": {
    "slideshow": {
     "slide_type": "slide"
    }
   },
   "source": [
    "## Transactional Detour\n",
    "\n",
    "A *transaction* is an **atomic group of statements** "
   ]
  },
  {
   "cell_type": "markdown",
   "metadata": {
    "slideshow": {
     "slide_type": "slide"
    }
   },
   "source": [
    "## Transactional Detour\n",
    "\n",
    "Because of **Consistency/Independence**, data from an in-flight transaction is *invisible* within a second transaction"
   ]
  },
  {
   "cell_type": "markdown",
   "metadata": {
    "slideshow": {
     "slide_type": "slide"
    }
   },
   "source": [
    "## Transactional Detour\n",
    "\n",
    "`COMMIT`: save and close the transaction\n",
    "\n",
    "`ROLLBACK`: revert to the state before the transaction"
   ]
  },
  {
   "cell_type": "markdown",
   "metadata": {
    "slideshow": {
     "slide_type": "slide"
    }
   },
   "source": [
    "## Transactional Detour\n",
    "\n",
    "So, if we commit transaction 1:"
   ]
  },
  {
   "cell_type": "code",
   "execution_count": 13,
   "metadata": {
    "collapsed": true
   },
   "outputs": [],
   "source": [
    "db.commit()"
   ]
  },
  {
   "cell_type": "markdown",
   "metadata": {
    "slideshow": {
     "slide_type": "slide"
    }
   },
   "source": [
    "## Transactional Detour\n",
    "\n",
    "its data will be *persisted* and therefore <br/>\n",
    "**visible** to transaction 2:"
   ]
  },
  {
   "cell_type": "code",
   "execution_count": 14,
   "metadata": {
    "collapsed": false,
    "slideshow": {
     "slide_type": "-"
    }
   },
   "outputs": [
    {
     "name": "stdout",
     "output_type": "stream",
     "text": [
      "('world!',)\n"
     ]
    }
   ],
   "source": [
    "cursor2 = conn2.execute('''\n",
    "    SELECT *\n",
    "    FROM hello;\n",
    "''')\n",
    "\n",
    "for row in cursor2:\n",
    "    print(row)"
   ]
  },
  {
   "cell_type": "code",
   "execution_count": 15,
   "metadata": {
    "collapsed": false,
    "slideshow": {
     "slide_type": "skip"
    }
   },
   "outputs": [],
   "source": [
    "conn2.close()"
   ]
  },
  {
   "cell_type": "markdown",
   "metadata": {
    "collapsed": true,
    "slideshow": {
     "slide_type": "slide"
    }
   },
   "source": [
    "## Synthetic Identifiers\n",
    "\n",
    "It is often convenient to allow the RDBMS to assign a<br/>*unique identitfier* to each row:"
   ]
  },
  {
   "cell_type": "code",
   "execution_count": 16,
   "metadata": {
    "collapsed": false,
    "slideshow": {
     "slide_type": "-"
    }
   },
   "outputs": [],
   "source": [
    "cursor = db.execute('''\n",
    "    CREATE TABLE user (\n",
    "        id INTEGER PRIMARY KEY,\n",
    "        user_name VARCHAR UNIQUE,\n",
    "        first_name VARCHAR,\n",
    "        last_name VARCHAR\n",
    "    );\n",
    "''')"
   ]
  },
  {
   "cell_type": "markdown",
   "metadata": {},
   "source": [
    "SQL dialects differ; `INTEGER PRIMARY KEY` is SQLite magic for *automatically increasing integer*"
   ]
  },
  {
   "cell_type": "markdown",
   "metadata": {
    "slideshow": {
     "slide_type": "slide"
    }
   },
   "source": [
    "We can now omit `id` when *inserting rows*"
   ]
  },
  {
   "cell_type": "code",
   "execution_count": 17,
   "metadata": {
    "collapsed": false,
    "slideshow": {
     "slide_type": "-"
    }
   },
   "outputs": [],
   "source": [
    "cursor = db.execute('''\n",
    "  INSERT INTO user \n",
    "    (user_name, first_name, last_name) \n",
    "  VALUES\n",
    "    ('d@rocco.com', 'Daniel', 'Rocco'),\n",
    "    ('a3@rocco.com', 'Ariadne', 'Rocco');\n",
    "''')"
   ]
  },
  {
   "cell_type": "markdown",
   "metadata": {
    "slideshow": {
     "slide_type": "slide"
    }
   },
   "source": [
    "and the RDBMS will *supply the missing values*"
   ]
  },
  {
   "cell_type": "code",
   "execution_count": 18,
   "metadata": {
    "collapsed": false,
    "slideshow": {
     "slide_type": "-"
    }
   },
   "outputs": [
    {
     "name": "stdout",
     "output_type": "stream",
     "text": [
      "(1, 'd@rocco.com', 'Daniel')\n",
      "(2, 'a3@rocco.com', 'Ariadne')\n"
     ]
    }
   ],
   "source": [
    "rows = db.execute('''\n",
    "    SELECT id, user_name, first_name\n",
    "    FROM user;\n",
    "''')\n",
    "\n",
    "print(*rows, sep='\\n')"
   ]
  },
  {
   "cell_type": "markdown",
   "metadata": {
    "slideshow": {
     "slide_type": "slide"
    }
   },
   "source": [
    "## Change Things Up"
   ]
  },
  {
   "cell_type": "markdown",
   "metadata": {
    "slideshow": {
     "slide_type": "slide"
    }
   },
   "source": [
    "`ALTER TABLE` statements allow us to \n",
    "\n",
    "*add new columns* \n",
    "\n",
    "to an existing table, among other operations."
   ]
  },
  {
   "cell_type": "code",
   "execution_count": 19,
   "metadata": {
    "collapsed": false,
    "slideshow": {
     "slide_type": "slide"
    }
   },
   "outputs": [],
   "source": [
    "cursor = db.execute('''\n",
    "    ALTER TABLE user\n",
    "    ADD COLUMN password VARCHAR(60)\n",
    "''')"
   ]
  },
  {
   "cell_type": "markdown",
   "metadata": {
    "slideshow": {
     "slide_type": "slide"
    }
   },
   "source": [
    "`UPDATE` changes *certain values* in a table’s rows, \n",
    "\n",
    "subject to a filter"
   ]
  },
  {
   "cell_type": "markdown",
   "metadata": {
    "slideshow": {
     "slide_type": "slide"
    }
   },
   "source": [
    "Here’s an `UPDATE` to store a user’s password. Since we’re *awesome*, we’ll use **cutting-edge hashed passwords**!"
   ]
  },
  {
   "cell_type": "code",
   "execution_count": 20,
   "metadata": {
    "collapsed": false
   },
   "outputs": [
    {
     "data": {
      "text/plain": [
       "b'$2b$12$8m7j.WT8XxYx/YGhuI1at.6YlEw9eUf9FdV4yKWki1SMwrMJ91hSG'"
      ]
     },
     "execution_count": 20,
     "metadata": {},
     "output_type": "execute_result"
    }
   ],
   "source": [
    "import bcrypt\n",
    "\n",
    "# Securely hash a cleartext pw\n",
    "password = b'asdf'\n",
    "hashed = bcrypt.hashpw(\n",
    "    password, bcrypt.gensalt())\n",
    "\n",
    "hashed"
   ]
  },
  {
   "cell_type": "markdown",
   "metadata": {
    "slideshow": {
     "slide_type": "slide"
    }
   },
   "source": [
    "So our variable `hashed` contains the hashed password,<br/>\n",
    "which we then add to the user’s record"
   ]
  },
  {
   "cell_type": "code",
   "execution_count": 21,
   "metadata": {
    "collapsed": false
   },
   "outputs": [],
   "source": [
    "cursor = db.execute('''\n",
    "    UPDATE user\n",
    "    SET password = ?\n",
    "    WHERE user_name = 'd@rocco.com'\n",
    "''', [hashed])"
   ]
  },
  {
   "cell_type": "markdown",
   "metadata": {
    "slideshow": {
     "slide_type": "slide"
    }
   },
   "source": [
    "The ‘`?`’ is a *query parameter*,<br/>\n",
    "a bridge between a *program variable*<br/>\n",
    "and an **SQL expression**\n",
    "\n",
    "    ··.·······('''\n",
    "        UPDATE user\n",
    "        SET password = ?\n",
    "        WHERE user_name = '···········'\n",
    "    ''', [hashed])"
   ]
  },
  {
   "cell_type": "markdown",
   "metadata": {
    "slideshow": {
     "slide_type": "slide"
    }
   },
   "source": [
    "For each ‘`?`’, we need to provide a value to <br/>*“fill in the blank”*\n",
    "\n",
    "    ··.·······('''\n",
    "        UPDATE ···\n",
    "        SET password = ? ← `hashed` goes here\n",
    "        WHERE ···\n",
    "    ''', [hashed])"
   ]
  },
  {
   "cell_type": "markdown",
   "metadata": {
    "slideshow": {
     "slide_type": "slide"
    }
   },
   "source": [
    "Query parameters provide *safety*, protecting our program from malicious user data…\n",
    "\n",
    "https://xkcd.com/327/"
   ]
  },
  {
   "cell_type": "markdown",
   "metadata": {
    "slideshow": {
     "slide_type": "slide"
    }
   },
   "source": [
    "Last example: a *high-level* Python function\n",
    "\n",
    "backed by the **data store** "
   ]
  },
  {
   "cell_type": "markdown",
   "metadata": {
    "slideshow": {
     "slide_type": "slide"
    }
   },
   "source": [
    "*How do we check a user_name/password combo for validity?*"
   ]
  },
  {
   "cell_type": "markdown",
   "metadata": {
    "slideshow": {
     "slide_type": "slide"
    }
   },
   "source": [
    "Here’s a query to retrieve the stored password "
   ]
  },
  {
   "cell_type": "code",
   "execution_count": 22,
   "metadata": {
    "collapsed": false,
    "slideshow": {
     "slide_type": "-"
    }
   },
   "outputs": [
    {
     "name": "stdout",
     "output_type": "stream",
     "text": [
      "(b'$2b$12$8m7j.WT8XxYx/YGhuI1at.6YlEw9eUf9FdV4yKWki1SMwrMJ91hSG',)\n"
     ]
    }
   ],
   "source": [
    "user_name = 'd@rocco.com'\n",
    "\n",
    "rows = db.execute('''\n",
    "    SELECT password\n",
    "    FROM user\n",
    "    WHERE user_name = ?;\n",
    "''', [user_name])\n",
    "\n",
    "print(*rows, sep='\\n')"
   ]
  },
  {
   "cell_type": "markdown",
   "metadata": {
    "slideshow": {
     "slide_type": "slide"
    }
   },
   "source": [
    "But imagine if we put code like this everywhere…"
   ]
  },
  {
   "cell_type": "markdown",
   "metadata": {
    "slideshow": {
     "slide_type": "slide"
    }
   },
   "source": [
    "A key *design challenge* when building \n",
    "\n",
    "*DB-driven applications* \n",
    "\n",
    "is to **maintain encapsulation**"
   ]
  },
  {
   "cell_type": "markdown",
   "metadata": {
    "slideshow": {
     "slide_type": "slide"
    }
   },
   "source": [
    "**Separation of Concerns**\n",
    "\n",
    "Keep *persistence* separate from *application logic*"
   ]
  },
  {
   "cell_type": "markdown",
   "metadata": {
    "slideshow": {
     "slide_type": "slide"
    }
   },
   "source": [
    "**Separation of Concerns**\n",
    "\n",
    "View *persistence* like an internal *API*"
   ]
  },
  {
   "cell_type": "markdown",
   "metadata": {
    "slideshow": {
     "slide_type": "slide"
    }
   },
   "source": [
    "We’ll use a *custom exception class* to indicate **missing users**\n",
    "\n",
    "*without reference to how users are stored!*"
   ]
  },
  {
   "cell_type": "code",
   "execution_count": 23,
   "metadata": {
    "collapsed": true
   },
   "outputs": [],
   "source": [
    "class NoSuchUser(Exception): \n",
    "    pass"
   ]
  },
  {
   "cell_type": "markdown",
   "metadata": {
    "slideshow": {
     "slide_type": "slide"
    }
   },
   "source": [
    "Our user storage API needs a mechanism \n",
    "\n",
    "to get a user’s saved password hash"
   ]
  },
  {
   "cell_type": "markdown",
   "metadata": {
    "slideshow": {
     "slide_type": "slide"
    }
   },
   "source": [
    "Given a *user name*,\n",
    "\n",
    "return the existing user’s **password hash**,\n",
    "\n",
    "or **raise** `NoSuchUser` if the user name doesn’t exist"
   ]
  },
  {
   "cell_type": "code",
   "execution_count": 24,
   "metadata": {
    "collapsed": true,
    "slideshow": {
     "slide_type": "slide"
    }
   },
   "outputs": [],
   "source": [
    "def get_password(user_name):\n",
    "    row = db.execute('''\n",
    "        SELECT password\n",
    "        FROM user\n",
    "        where user_name = ?;\n",
    "    ''', [user_name]).fetchone()\n",
    "\n",
    "    try:\n",
    "        return row[0]\n",
    "    except TypeError:\n",
    "        raise NoSuchUser(user_name) \\\n",
    "            from None"
   ]
  },
  {
   "cell_type": "code",
   "execution_count": 25,
   "metadata": {
    "collapsed": false,
    "slideshow": {
     "slide_type": "slide"
    }
   },
   "outputs": [
    {
     "data": {
      "text/plain": [
       "b'$2b$12$8m7j.WT8XxYx/YGhuI1at.6YlEw9eUf9FdV4yKWki1SMwrMJ91hSG'"
      ]
     },
     "execution_count": 25,
     "metadata": {},
     "output_type": "execute_result"
    }
   ],
   "source": [
    "get_password('d@rocco.com')"
   ]
  },
  {
   "cell_type": "code",
   "execution_count": 26,
   "metadata": {
    "collapsed": false,
    "slideshow": {
     "slide_type": "slide"
    }
   },
   "outputs": [
    {
     "ename": "NoSuchUser",
     "evalue": "bo@gus.com",
     "output_type": "error",
     "traceback": [
      "\u001b[1;31m---------------------------------------------------------------------------\u001b[0m",
      "\u001b[1;31mNoSuchUser\u001b[0m                                Traceback (most recent call last)",
      "\u001b[1;32m<ipython-input-26-d830ddf6b920>\u001b[0m in \u001b[0;36m<module>\u001b[1;34m()\u001b[0m\n\u001b[1;32m----> 1\u001b[1;33m \u001b[0mget_password\u001b[0m\u001b[1;33m(\u001b[0m\u001b[1;34m'bo@gus.com'\u001b[0m\u001b[1;33m)\u001b[0m\u001b[1;33m\u001b[0m\u001b[0m\n\u001b[0m",
      "\u001b[1;32m<ipython-input-24-137f411074b7>\u001b[0m in \u001b[0;36mget_password\u001b[1;34m(user_name)\u001b[0m\n\u001b[0;32m      9\u001b[0m         \u001b[1;32mreturn\u001b[0m \u001b[0mrow\u001b[0m\u001b[1;33m[\u001b[0m\u001b[1;36m0\u001b[0m\u001b[1;33m]\u001b[0m\u001b[1;33m\u001b[0m\u001b[0m\n\u001b[0;32m     10\u001b[0m     \u001b[1;32mexcept\u001b[0m \u001b[0mTypeError\u001b[0m\u001b[1;33m:\u001b[0m\u001b[1;33m\u001b[0m\u001b[0m\n\u001b[1;32m---> 11\u001b[1;33m         \u001b[1;32mraise\u001b[0m \u001b[0mNoSuchUser\u001b[0m\u001b[1;33m(\u001b[0m\u001b[0muser_name\u001b[0m\u001b[1;33m)\u001b[0m             \u001b[1;32mfrom\u001b[0m \u001b[1;32mNone\u001b[0m\u001b[1;33m\u001b[0m\u001b[0m\n\u001b[0m",
      "\u001b[1;31mNoSuchUser\u001b[0m: bo@gus.com"
     ]
    }
   ],
   "source": [
    "get_password('bo@gus.com')"
   ]
  },
  {
   "cell_type": "markdown",
   "metadata": {
    "slideshow": {
     "slide_type": "slide"
    }
   },
   "source": [
    "Finally, `check_password`:<br/>\n",
    "return `True` if the user exists **and** the supplied password hashes correctly, `False` *if either condition fails*"
   ]
  },
  {
   "cell_type": "code",
   "execution_count": 27,
   "metadata": {
    "collapsed": false,
    "slideshow": {
     "slide_type": "-"
    }
   },
   "outputs": [],
   "source": [
    "def check_password(user_name, password):\n",
    "    try:\n",
    "        hashed = get_password(user_name)\n",
    "        return hashed == \\\n",
    "            bcrypt.hashpw(password, \n",
    "                          hashed) \n",
    "    except NoSuchUser:\n",
    "        return False"
   ]
  },
  {
   "cell_type": "code",
   "execution_count": 28,
   "metadata": {
    "collapsed": false,
    "slideshow": {
     "slide_type": "slide"
    }
   },
   "outputs": [
    {
     "data": {
      "text/plain": [
       "False"
      ]
     },
     "execution_count": 28,
     "metadata": {},
     "output_type": "execute_result"
    }
   ],
   "source": [
    "check_password('d@rocco.com', b'12345')"
   ]
  },
  {
   "cell_type": "code",
   "execution_count": 29,
   "metadata": {
    "collapsed": false,
    "slideshow": {
     "slide_type": "slide"
    }
   },
   "outputs": [
    {
     "data": {
      "text/plain": [
       "True"
      ]
     },
     "execution_count": 29,
     "metadata": {},
     "output_type": "execute_result"
    }
   ],
   "source": [
    "check_password('d@rocco.com', b'asdf')"
   ]
  },
  {
   "cell_type": "code",
   "execution_count": 30,
   "metadata": {
    "collapsed": false,
    "slideshow": {
     "slide_type": "slide"
    }
   },
   "outputs": [
    {
     "data": {
      "text/plain": [
       "False"
      ]
     },
     "execution_count": 30,
     "metadata": {},
     "output_type": "execute_result"
    }
   ],
   "source": [
    "check_password('bo@gus.com', b'asdf')"
   ]
  },
  {
   "cell_type": "code",
   "execution_count": 31,
   "metadata": {
    "collapsed": true,
    "slideshow": {
     "slide_type": "skip"
    }
   },
   "outputs": [],
   "source": [
    "# db.close()"
   ]
  },
  {
   "cell_type": "markdown",
   "metadata": {
    "slideshow": {
     "slide_type": "slide"
    }
   },
   "source": [
    "You now know how to connect a Python application to an RDBMS, and why you might want to do so"
   ]
  },
  {
   "cell_type": "markdown",
   "metadata": {
    "slideshow": {
     "slide_type": "slide"
    }
   },
   "source": [
    "The **absolute next thing** you *must* do is learn about `JOIN`"
   ]
  },
  {
   "cell_type": "markdown",
   "metadata": {
    "slideshow": {
     "slide_type": "slide"
    }
   },
   "source": [
    "Never stop learning: http://philip.greenspun.com/sql/\n",
    "        \n",
    "or just search for *“sql for web nerds”*"
   ]
  },
  {
   "cell_type": "markdown",
   "metadata": {
    "slideshow": {
     "slide_type": "slide"
    }
   },
   "source": [
    "♥,\n",
    "\n",
    "@drocco007"
   ]
  }
 ],
 "metadata": {
  "celltoolbar": "Slideshow",
  "kernelspec": {
   "display_name": "Python 3",
   "language": "python",
   "name": "python3"
  },
  "language_info": {
   "codemirror_mode": {
    "name": "ipython",
    "version": 3
   },
   "file_extension": ".py",
   "mimetype": "text/x-python",
   "name": "python",
   "nbconvert_exporter": "python",
   "pygments_lexer": "ipython3",
   "version": "3.4.3"
  }
 },
 "nbformat": 4,
 "nbformat_minor": 0
}
